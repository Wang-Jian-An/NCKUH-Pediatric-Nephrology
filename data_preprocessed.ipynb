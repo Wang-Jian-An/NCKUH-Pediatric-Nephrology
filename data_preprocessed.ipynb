{
 "cells": [
  {
   "cell_type": "code",
   "execution_count": 1,
   "metadata": {},
   "outputs": [
    {
     "name": "stderr",
     "output_type": "stream",
     "text": [
      "c:\\python_3_8_9\\lib\\site-packages\\xgboost\\compat.py:31: FutureWarning: pandas.Int64Index is deprecated and will be removed from pandas in a future version. Use pandas.Index with the appropriate dtype instead.\n",
      "  from pandas import MultiIndex, Int64Index\n"
     ]
    }
   ],
   "source": [
    "import numpy as np\n",
    "import pandas as pd\n",
    "import matplotlib.pyplot as plt\n",
    "%matplotlib inline\n",
    "\n",
    "from datetime import datetime, timedelta\n",
    "from sklearn.model_selection import train_test_split\n",
    "from sklearn.ensemble import RandomForestClassifier\n",
    "from sklearn.metrics import *\n",
    "import ML_two_class_for_autogluon_DC"
   ]
  },
  {
   "cell_type": "code",
   "execution_count": 2,
   "metadata": {},
   "outputs": [],
   "source": [
    "temperature_bp_raw_data = pd.read_excel(\"..//raw_data//Pilot_dataset.xlsx\", sheet_name = \"Temperature _BP\")\n",
    "pressure_raw_data = pd.read_excel(\"..//raw_data//Pilot_dataset.xlsx\", sheet_name = \"Pressure\")"
   ]
  },
  {
   "cell_type": "code",
   "execution_count": 3,
   "metadata": {},
   "outputs": [
    {
     "name": "stdout",
     "output_type": "stream",
     "text": [
      "<class 'pandas.core.frame.DataFrame'>\n",
      "RangeIndex: 69 entries, 0 to 68\n",
      "Data columns (total 12 columns):\n",
      " #   Column            Non-Null Count  Dtype         \n",
      "---  ------            --------------  -----         \n",
      " 0   年齡                69 non-null     int64         \n",
      " 1   性別                69 non-null     object        \n",
      " 2   記錄時間              69 non-null     datetime64[ns]\n",
      " 3   體溫(B.T,(C))       13 non-null     float64       \n",
      " 4   體重 - 公斤 (每日)      0 non-null      float64       \n",
      " 5   Art BP Systolic   46 non-null     float64       \n",
      " 6   Art BP Diastolic  46 non-null     float64       \n",
      " 7   Art BP Mean       62 non-null     float64       \n",
      " 8   NBP Systolic      6 non-null      float64       \n",
      " 9   NBP Diastolic     6 non-null      float64       \n",
      " 10  NBP Mean          6 non-null      float64       \n",
      " 11  Heart Rate        57 non-null     float64       \n",
      "dtypes: datetime64[ns](1), float64(9), int64(1), object(1)\n",
      "memory usage: 6.6+ KB\n"
     ]
    }
   ],
   "source": [
    "temperature_bp_raw_data.info()"
   ]
  },
  {
   "cell_type": "code",
   "execution_count": 4,
   "metadata": {},
   "outputs": [
    {
     "name": "stdout",
     "output_type": "stream",
     "text": [
      "<class 'pandas.core.frame.DataFrame'>\n",
      "RangeIndex: 10854 entries, 0 to 10853\n",
      "Data columns (total 6 columns):\n",
      " #   Column    Non-Null Count  Dtype         \n",
      "---  ------    --------------  -----         \n",
      " 0   時間        10854 non-null  datetime64[ns]\n",
      " 1   Arterial  10848 non-null  float64       \n",
      " 2   Venous    10848 non-null  float64       \n",
      " 3   PF        10848 non-null  float64       \n",
      " 4   PU        10848 non-null  float64       \n",
      " 5   TMP       10848 non-null  float64       \n",
      "dtypes: datetime64[ns](1), float64(5)\n",
      "memory usage: 508.9 KB\n"
     ]
    }
   ],
   "source": [
    "pressure_raw_data.info()"
   ]
  },
  {
   "cell_type": "code",
   "execution_count": 5,
   "metadata": {},
   "outputs": [
    {
     "data": {
      "text/html": [
       "<div>\n",
       "<style scoped>\n",
       "    .dataframe tbody tr th:only-of-type {\n",
       "        vertical-align: middle;\n",
       "    }\n",
       "\n",
       "    .dataframe tbody tr th {\n",
       "        vertical-align: top;\n",
       "    }\n",
       "\n",
       "    .dataframe thead th {\n",
       "        text-align: right;\n",
       "    }\n",
       "</style>\n",
       "<table border=\"1\" class=\"dataframe\">\n",
       "  <thead>\n",
       "    <tr style=\"text-align: right;\">\n",
       "      <th></th>\n",
       "      <th>年齡</th>\n",
       "      <th>體溫(B.T,(C))</th>\n",
       "      <th>體重 - 公斤 (每日)</th>\n",
       "      <th>Art BP Systolic</th>\n",
       "      <th>Art BP Diastolic</th>\n",
       "      <th>Art BP Mean</th>\n",
       "      <th>NBP Systolic</th>\n",
       "      <th>NBP Diastolic</th>\n",
       "      <th>NBP Mean</th>\n",
       "      <th>Heart Rate</th>\n",
       "    </tr>\n",
       "  </thead>\n",
       "  <tbody>\n",
       "    <tr>\n",
       "      <th>count</th>\n",
       "      <td>69.0</td>\n",
       "      <td>13.000000</td>\n",
       "      <td>0.0</td>\n",
       "      <td>46.000000</td>\n",
       "      <td>46.000000</td>\n",
       "      <td>62.000000</td>\n",
       "      <td>6.000000</td>\n",
       "      <td>6.000000</td>\n",
       "      <td>6.000000</td>\n",
       "      <td>57.000000</td>\n",
       "    </tr>\n",
       "    <tr>\n",
       "      <th>mean</th>\n",
       "      <td>0.0</td>\n",
       "      <td>36.507692</td>\n",
       "      <td>NaN</td>\n",
       "      <td>44.826087</td>\n",
       "      <td>40.913043</td>\n",
       "      <td>42.580645</td>\n",
       "      <td>47.666667</td>\n",
       "      <td>26.833333</td>\n",
       "      <td>33.000000</td>\n",
       "      <td>141.596491</td>\n",
       "    </tr>\n",
       "    <tr>\n",
       "      <th>std</th>\n",
       "      <td>0.0</td>\n",
       "      <td>0.253185</td>\n",
       "      <td>NaN</td>\n",
       "      <td>7.732484</td>\n",
       "      <td>8.307496</td>\n",
       "      <td>8.102921</td>\n",
       "      <td>13.321662</td>\n",
       "      <td>10.647378</td>\n",
       "      <td>11.471704</td>\n",
       "      <td>43.336252</td>\n",
       "    </tr>\n",
       "    <tr>\n",
       "      <th>min</th>\n",
       "      <td>0.0</td>\n",
       "      <td>36.100000</td>\n",
       "      <td>NaN</td>\n",
       "      <td>32.000000</td>\n",
       "      <td>25.000000</td>\n",
       "      <td>27.000000</td>\n",
       "      <td>26.000000</td>\n",
       "      <td>13.000000</td>\n",
       "      <td>17.000000</td>\n",
       "      <td>0.000000</td>\n",
       "    </tr>\n",
       "    <tr>\n",
       "      <th>25%</th>\n",
       "      <td>0.0</td>\n",
       "      <td>36.300000</td>\n",
       "      <td>NaN</td>\n",
       "      <td>39.000000</td>\n",
       "      <td>34.250000</td>\n",
       "      <td>37.000000</td>\n",
       "      <td>40.500000</td>\n",
       "      <td>19.250000</td>\n",
       "      <td>26.000000</td>\n",
       "      <td>152.000000</td>\n",
       "    </tr>\n",
       "    <tr>\n",
       "      <th>50%</th>\n",
       "      <td>0.0</td>\n",
       "      <td>36.500000</td>\n",
       "      <td>NaN</td>\n",
       "      <td>43.000000</td>\n",
       "      <td>39.000000</td>\n",
       "      <td>41.000000</td>\n",
       "      <td>53.000000</td>\n",
       "      <td>27.000000</td>\n",
       "      <td>32.500000</td>\n",
       "      <td>155.000000</td>\n",
       "    </tr>\n",
       "    <tr>\n",
       "      <th>75%</th>\n",
       "      <td>0.0</td>\n",
       "      <td>36.600000</td>\n",
       "      <td>NaN</td>\n",
       "      <td>47.000000</td>\n",
       "      <td>44.000000</td>\n",
       "      <td>47.500000</td>\n",
       "      <td>56.500000</td>\n",
       "      <td>34.750000</td>\n",
       "      <td>42.750000</td>\n",
       "      <td>157.000000</td>\n",
       "    </tr>\n",
       "    <tr>\n",
       "      <th>max</th>\n",
       "      <td>0.0</td>\n",
       "      <td>37.100000</td>\n",
       "      <td>NaN</td>\n",
       "      <td>63.000000</td>\n",
       "      <td>59.000000</td>\n",
       "      <td>62.000000</td>\n",
       "      <td>60.000000</td>\n",
       "      <td>40.000000</td>\n",
       "      <td>46.000000</td>\n",
       "      <td>167.000000</td>\n",
       "    </tr>\n",
       "  </tbody>\n",
       "</table>\n",
       "</div>"
      ],
      "text/plain": [
       "         年齡  體溫(B.T,(C))  體重 - 公斤 (每日)  Art BP Systolic  Art BP Diastolic  \\\n",
       "count  69.0    13.000000           0.0        46.000000         46.000000   \n",
       "mean    0.0    36.507692           NaN        44.826087         40.913043   \n",
       "std     0.0     0.253185           NaN         7.732484          8.307496   \n",
       "min     0.0    36.100000           NaN        32.000000         25.000000   \n",
       "25%     0.0    36.300000           NaN        39.000000         34.250000   \n",
       "50%     0.0    36.500000           NaN        43.000000         39.000000   \n",
       "75%     0.0    36.600000           NaN        47.000000         44.000000   \n",
       "max     0.0    37.100000           NaN        63.000000         59.000000   \n",
       "\n",
       "       Art BP Mean  NBP Systolic  NBP Diastolic   NBP Mean  Heart Rate  \n",
       "count    62.000000      6.000000       6.000000   6.000000   57.000000  \n",
       "mean     42.580645     47.666667      26.833333  33.000000  141.596491  \n",
       "std       8.102921     13.321662      10.647378  11.471704   43.336252  \n",
       "min      27.000000     26.000000      13.000000  17.000000    0.000000  \n",
       "25%      37.000000     40.500000      19.250000  26.000000  152.000000  \n",
       "50%      41.000000     53.000000      27.000000  32.500000  155.000000  \n",
       "75%      47.500000     56.500000      34.750000  42.750000  157.000000  \n",
       "max      62.000000     60.000000      40.000000  46.000000  167.000000  "
      ]
     },
     "execution_count": 5,
     "metadata": {},
     "output_type": "execute_result"
    }
   ],
   "source": [
    "temperature_bp_raw_data.describe()"
   ]
  },
  {
   "cell_type": "code",
   "execution_count": 6,
   "metadata": {},
   "outputs": [
    {
     "data": {
      "text/html": [
       "<div>\n",
       "<style scoped>\n",
       "    .dataframe tbody tr th:only-of-type {\n",
       "        vertical-align: middle;\n",
       "    }\n",
       "\n",
       "    .dataframe tbody tr th {\n",
       "        vertical-align: top;\n",
       "    }\n",
       "\n",
       "    .dataframe thead th {\n",
       "        text-align: right;\n",
       "    }\n",
       "</style>\n",
       "<table border=\"1\" class=\"dataframe\">\n",
       "  <thead>\n",
       "    <tr style=\"text-align: right;\">\n",
       "      <th></th>\n",
       "      <th>Arterial</th>\n",
       "      <th>Venous</th>\n",
       "      <th>PF</th>\n",
       "      <th>PU</th>\n",
       "      <th>TMP</th>\n",
       "    </tr>\n",
       "  </thead>\n",
       "  <tbody>\n",
       "    <tr>\n",
       "      <th>count</th>\n",
       "      <td>10848.000000</td>\n",
       "      <td>10848.000000</td>\n",
       "      <td>10848.000000</td>\n",
       "      <td>10848.000000</td>\n",
       "      <td>10848.000000</td>\n",
       "    </tr>\n",
       "    <tr>\n",
       "      <th>mean</th>\n",
       "      <td>6.575037</td>\n",
       "      <td>19.993824</td>\n",
       "      <td>50.942017</td>\n",
       "      <td>-0.711652</td>\n",
       "      <td>35.941095</td>\n",
       "    </tr>\n",
       "    <tr>\n",
       "      <th>std</th>\n",
       "      <td>5.352332</td>\n",
       "      <td>13.418114</td>\n",
       "      <td>20.520494</td>\n",
       "      <td>1.459703</td>\n",
       "      <td>16.747396</td>\n",
       "    </tr>\n",
       "    <tr>\n",
       "      <th>min</th>\n",
       "      <td>-1.000000</td>\n",
       "      <td>-21.000000</td>\n",
       "      <td>-20.000000</td>\n",
       "      <td>-46.000000</td>\n",
       "      <td>0.000000</td>\n",
       "    </tr>\n",
       "    <tr>\n",
       "      <th>25%</th>\n",
       "      <td>2.000000</td>\n",
       "      <td>9.000000</td>\n",
       "      <td>34.000000</td>\n",
       "      <td>-1.000000</td>\n",
       "      <td>22.000000</td>\n",
       "    </tr>\n",
       "    <tr>\n",
       "      <th>50%</th>\n",
       "      <td>5.000000</td>\n",
       "      <td>16.000000</td>\n",
       "      <td>46.000000</td>\n",
       "      <td>-1.000000</td>\n",
       "      <td>31.000000</td>\n",
       "    </tr>\n",
       "    <tr>\n",
       "      <th>75%</th>\n",
       "      <td>10.000000</td>\n",
       "      <td>29.000000</td>\n",
       "      <td>65.000000</td>\n",
       "      <td>0.000000</td>\n",
       "      <td>47.000000</td>\n",
       "    </tr>\n",
       "    <tr>\n",
       "      <th>max</th>\n",
       "      <td>21.000000</td>\n",
       "      <td>52.000000</td>\n",
       "      <td>508.000000</td>\n",
       "      <td>2.000000</td>\n",
       "      <td>285.000000</td>\n",
       "    </tr>\n",
       "  </tbody>\n",
       "</table>\n",
       "</div>"
      ],
      "text/plain": [
       "           Arterial        Venous            PF            PU           TMP\n",
       "count  10848.000000  10848.000000  10848.000000  10848.000000  10848.000000\n",
       "mean       6.575037     19.993824     50.942017     -0.711652     35.941095\n",
       "std        5.352332     13.418114     20.520494      1.459703     16.747396\n",
       "min       -1.000000    -21.000000    -20.000000    -46.000000      0.000000\n",
       "25%        2.000000      9.000000     34.000000     -1.000000     22.000000\n",
       "50%        5.000000     16.000000     46.000000     -1.000000     31.000000\n",
       "75%       10.000000     29.000000     65.000000      0.000000     47.000000\n",
       "max       21.000000     52.000000    508.000000      2.000000    285.000000"
      ]
     },
     "execution_count": 6,
     "metadata": {},
     "output_type": "execute_result"
    }
   ],
   "source": [
    "pressure_raw_data.describe()"
   ]
  },
  {
   "cell_type": "code",
   "execution_count": null,
   "metadata": {},
   "outputs": [],
   "source": []
  },
  {
   "cell_type": "code",
   "execution_count": 4,
   "metadata": {},
   "outputs": [],
   "source": [
    "# 定義是否有低血壓\n",
    "# 0：無低血壓；1：有低血壓\n",
    "\n",
    "def identify_hypotension_or_not(BP_mean, NBP_mean):\n",
    "    \"\"\"\n",
    "    低血壓定義：Art BP Mean< 49, 若沒有Art BP Mean則NBP Mean< 49\n",
    "    \"\"\"\n",
    "    if np.isnan(BP_mean) == False:\n",
    "        if BP_mean < 49:\n",
    "            return 1\n",
    "        else:\n",
    "            return 0\n",
    "    else:\n",
    "        if NBP_mean < 49:\n",
    "            return 1\n",
    "        else:\n",
    "            return 0\n",
    "\n",
    "temperature_bp_raw_data[\"Hypotension\"] = temperature_bp_raw_data.apply(lambda x: identify_hypotension_or_not(BP_mean = x[\"Art BP Mean\"], NBP_mean = x[\"NBP Mean\"]), axis = 1)"
   ]
  },
  {
   "cell_type": "code",
   "execution_count": 5,
   "metadata": {},
   "outputs": [],
   "source": [
    "# 定義出每筆資料應該要用哪個時間區段當作訓練資料\n",
    "\n",
    "one_hour_timedelta = timedelta(hours = 1)\n",
    "temperature_bp_raw_data[\"end_of_the_time_of_data\"] = temperature_bp_raw_data[\"記錄時間\"].apply(lambda x: x - one_hour_timedelta)\n",
    "temperature_bp_raw_data[\"start_of_the_time_of_data\"] = temperature_bp_raw_data[\"end_of_the_time_of_data\"].apply(lambda x: x - one_hour_timedelta)"
   ]
  },
  {
   "cell_type": "code",
   "execution_count": 6,
   "metadata": {},
   "outputs": [],
   "source": [
    "def match_data(start_of_the_time, end_of_the_time):\n",
    "    select_pressure_data = pressure_raw_data[(pressure_raw_data[\"時間\"] >= start_of_the_time) & (pressure_raw_data[\"時間\"] <= end_of_the_time)]\n",
    "    if select_pressure_data.shape[0] > 0:\n",
    "        return select_pressure_data.to_dict(\"list\")\n",
    "    else:\n",
    "        return np.nan\n",
    "\n",
    "temperature_bp_raw_data[\"Match_Pressure\"] = temperature_bp_raw_data.apply(lambda x: match_data(start_of_the_time = x[\"start_of_the_time_of_data\"], \n",
    "                                                                                                end_of_the_time = x[\"end_of_the_time_of_data\"]), axis = 1)      \n",
    "\n",
    "# 排除血壓沒有配對到的資料，以及沒有 Outcome 的資料\n",
    "temperature_bp_raw_data = temperature_bp_raw_data[(temperature_bp_raw_data[\"Match_Pressure\"].isna() == False) & (temperature_bp_raw_data[\"Art BP Mean\"].isna() == False)].reset_index(drop = True)"
   ]
  },
  {
   "cell_type": "code",
   "execution_count": 7,
   "metadata": {},
   "outputs": [],
   "source": [
    "temperature_bp_raw_data = pd.concat([\n",
    "    temperature_bp_raw_data, pd.DataFrame(temperature_bp_raw_data[\"Match_Pressure\"].tolist()).drop(columns = [\"時間\"])\n",
    "], axis = 1)"
   ]
  },
  {
   "cell_type": "code",
   "execution_count": 8,
   "metadata": {},
   "outputs": [
    {
     "name": "stdout",
     "output_type": "stream",
     "text": [
      "<class 'pandas.core.frame.DataFrame'>\n",
      "RangeIndex: 60 entries, 0 to 59\n",
      "Data columns (total 21 columns):\n",
      " #   Column                     Non-Null Count  Dtype         \n",
      "---  ------                     --------------  -----         \n",
      " 0   年齡                         60 non-null     int64         \n",
      " 1   性別                         60 non-null     object        \n",
      " 2   記錄時間                       60 non-null     datetime64[ns]\n",
      " 3   體溫(B.T,(C))                13 non-null     float64       \n",
      " 4   體重 - 公斤 (每日)               0 non-null      float64       \n",
      " 5   Art BP Systolic            45 non-null     float64       \n",
      " 6   Art BP Diastolic           45 non-null     float64       \n",
      " 7   Art BP Mean                60 non-null     float64       \n",
      " 8   NBP Systolic               5 non-null      float64       \n",
      " 9   NBP Diastolic              5 non-null      float64       \n",
      " 10  NBP Mean                   5 non-null      float64       \n",
      " 11  Heart Rate                 48 non-null     float64       \n",
      " 12  end_of_the_time_of_data    60 non-null     datetime64[ns]\n",
      " 13  start_of_the_time_of_data  60 non-null     datetime64[ns]\n",
      " 14  Hypotension                60 non-null     int64         \n",
      " 15  Match_Pressure             60 non-null     object        \n",
      " 16  Arterial                   60 non-null     object        \n",
      " 17  Venous                     60 non-null     object        \n",
      " 18  PF                         60 non-null     object        \n",
      " 19  PU                         60 non-null     object        \n",
      " 20  TMP                        60 non-null     object        \n",
      "dtypes: datetime64[ns](3), float64(9), int64(2), object(7)\n",
      "memory usage: 10.0+ KB\n"
     ]
    }
   ],
   "source": [
    "temperature_bp_raw_data.info()"
   ]
  },
  {
   "cell_type": "code",
   "execution_count": 9,
   "metadata": {},
   "outputs": [],
   "source": [
    "# 計算四個Pressure 的統計量\n",
    "Arterial_statistics = temperature_bp_raw_data[\"Arterial\"].apply(lambda x: {\"Arterial_Mean\": np.mean(x), \"Arterial_Std\": np.std(x), \"Arterial_Min\": np.min(x), \"Arterial_Max\": np.max(x)}).tolist()\n",
    "Venous_statistics = temperature_bp_raw_data[\"Venous\"].apply(lambda x: {\"Venous_Mean\": np.mean(x), \"Venous_Std\": np.std(x), \"Venous_Min\": np.min(x), \"Venous_Max\": np.max(x)}).tolist()\n",
    "PF_statistics = temperature_bp_raw_data[\"PF\"].apply(lambda x: {\"PF_Mean\": np.mean(x), \"PF_Std\": np.std(x), \"PF_Min\": np.min(x), \"PF_Max\": np.max(x)}).tolist()\n",
    "TMP_statistics = temperature_bp_raw_data[\"TMP\"].apply(lambda x: {\"TMP_Mean\": np.mean(x), \"TMP_Std\": np.std(x), \"TMP_Min\": np.min(x), \"TMP_Max\": np.max(x)}).tolist()"
   ]
  },
  {
   "cell_type": "code",
   "execution_count": 10,
   "metadata": {},
   "outputs": [],
   "source": [
    "# 將記錄時間、四種血壓統計量、心率與是否低血壓合併成一個DataFrame\n",
    "inputData_and_label = pd.concat([\n",
    "    temperature_bp_raw_data[\"記錄時間\"],\n",
    "    pd.DataFrame(Arterial_statistics), \n",
    "    pd.DataFrame(Venous_statistics),\n",
    "    pd.DataFrame(PF_statistics),\n",
    "    pd.DataFrame(TMP_statistics),\n",
    "    temperature_bp_raw_data[[\"Hypotension\"]]\n",
    "], axis = 1).sort_values([\"記錄時間\"])"
   ]
  },
  {
   "cell_type": "code",
   "execution_count": 10,
   "metadata": {},
   "outputs": [
    {
     "data": {
      "text/plain": [
       "1    45\n",
       "0    15\n",
       "Name: Hypotension, dtype: int64"
      ]
     },
     "execution_count": 10,
     "metadata": {},
     "output_type": "execute_result"
    }
   ],
   "source": [
    "inputData_and_label[\"Hypotension\"].value_counts()"
   ]
  },
  {
   "cell_type": "code",
   "execution_count": 15,
   "metadata": {},
   "outputs": [
    {
     "name": "stdout",
     "output_type": "stream",
     "text": [
      "<class 'pandas.core.frame.DataFrame'>\n",
      "Int64Index: 60 entries, 0 to 59\n",
      "Data columns (total 18 columns):\n",
      " #   Column         Non-Null Count  Dtype         \n",
      "---  ------         --------------  -----         \n",
      " 0   記錄時間           60 non-null     datetime64[ns]\n",
      " 1   Arterial_Mean  60 non-null     float64       \n",
      " 2   Arterial_Std   60 non-null     float64       \n",
      " 3   Arterial_Min   60 non-null     float64       \n",
      " 4   Arterial_Max   60 non-null     float64       \n",
      " 5   Venous_Mean    60 non-null     float64       \n",
      " 6   Venous_Std     60 non-null     float64       \n",
      " 7   Venous_Min     60 non-null     float64       \n",
      " 8   Venous_Max     60 non-null     float64       \n",
      " 9   PF_Mean        60 non-null     float64       \n",
      " 10  PF_Std         60 non-null     float64       \n",
      " 11  PF_Min         60 non-null     float64       \n",
      " 12  PF_Max         60 non-null     float64       \n",
      " 13  TMP_Mean       60 non-null     float64       \n",
      " 14  TMP_Std        60 non-null     float64       \n",
      " 15  TMP_Min        60 non-null     float64       \n",
      " 16  TMP_Max        60 non-null     float64       \n",
      " 17  Hypotension    60 non-null     int64         \n",
      "dtypes: datetime64[ns](1), float64(16), int64(1)\n",
      "memory usage: 8.9 KB\n"
     ]
    }
   ],
   "source": [
    "inputData_and_label.info()"
   ]
  },
  {
   "cell_type": "code",
   "execution_count": 11,
   "metadata": {},
   "outputs": [],
   "source": [
    "# 切割訓練與測試資料\n",
    "trainData, testData = train_test_split(inputData_and_label.drop(columns = [\"記錄時間\"]), test_size = 0.2, random_state = 12345)\n",
    "trainData, valiData = train_test_split(trainData, test_size = 0.25, random_state = 12345)\n",
    "\n",
    "# 定義出 xtrain, xtest, ytrain, ytest\n",
    "xtrain, ytrain = trainData.drop(columns = [\"Hypotension\"]), trainData[\"Hypotension\"]\n",
    "xvali, yvali = valiData.drop(columns = [\"Hypotension\"]), valiData[\"Hypotension\"]\n",
    "xtest, ytest = testData.drop(columns = [\"Hypotension\"]), testData[\"Hypotension\"]"
   ]
  },
  {
   "cell_type": "code",
   "execution_count": 12,
   "metadata": {},
   "outputs": [
    {
     "name": "stderr",
     "output_type": "stream",
     "text": [
      "100%|██████████| 1/1 [00:00<00:00,  6.83it/s]\n",
      "100%|██████████| 1/1 [00:00<00:00,  8.11it/s]\n",
      "100%|██████████| 1/1 [00:00<00:00,  2.63it/s]\n",
      "100%|██████████| 1/1 [00:00<00:00, 13.69it/s]\n",
      "Warning: Exception caused NeuralNetMXNet to fail during hyperparameter tuning... Skipping this model.\n",
      "Traceback (most recent call last):\n",
      "  File \"c:\\python_3_8_9\\lib\\site-packages\\autogluon\\core\\utils\\try_import.py\", line 30, in try_import_mxnet\n",
      "    import mxnet as mx\n",
      "ModuleNotFoundError: No module named 'mxnet'\n",
      "\n",
      "During handling of the above exception, another exception occurred:\n",
      "\n",
      "Traceback (most recent call last):\n",
      "  File \"c:\\python_3_8_9\\lib\\site-packages\\autogluon\\tabular\\trainer\\abstract_trainer.py\", line 1090, in _train_single_full\n",
      "    hpo_models, hpo_model_performances, hpo_results = model.hyperparameter_tune(X=X, y=y, X_val=X_val, y_val=y_val, scheduler_options=hyperparameter_tune_kwargs, **model_fit_kwargs)\n",
      "  File \"c:\\python_3_8_9\\lib\\site-packages\\autogluon\\core\\models\\abstract\\abstract_model.py\", line 701, in hyperparameter_tune\n",
      "    return self._hyperparameter_tune(scheduler_options=scheduler_options, **kwargs)\n",
      "  File \"c:\\python_3_8_9\\lib\\site-packages\\autogluon\\tabular\\models\\tabular_nn\\tabular_nn_model.py\", line 711, in _hyperparameter_tune\n",
      "    try_import_mxnet()\n",
      "  File \"c:\\python_3_8_9\\lib\\site-packages\\autogluon\\core\\utils\\try_import.py\", line 41, in try_import_mxnet\n",
      "    raise ImportError(\n",
      "ImportError: Unable to import dependency mxnet. A quick tip is to install via `pip install mxnet --upgrade`, or `pip install mxnet_cu101 --upgrade`\n",
      "2it [00:00,  8.70it/s]"
     ]
    },
    {
     "name": "stdout",
     "output_type": "stream",
     "text": [
      "Get KNeighborsUnif, train feature importances\n",
      "Get KNeighborsUnif, vali feature importances\n"
     ]
    },
    {
     "name": "stderr",
     "output_type": "stream",
     "text": [
      "4it [00:00,  8.88it/s]"
     ]
    },
    {
     "name": "stdout",
     "output_type": "stream",
     "text": [
      "Get KNeighborsUnif, test feature importances\n",
      "Get KNeighborsDist, train feature importances\n"
     ]
    },
    {
     "name": "stderr",
     "output_type": "stream",
     "text": [
      "6it [00:00,  9.33it/s]"
     ]
    },
    {
     "name": "stdout",
     "output_type": "stream",
     "text": [
      "Get KNeighborsDist, vali feature importances\n",
      "Get KNeighborsDist, test feature importances\n",
      "Get LightGBMXT\\T0, train feature importances\n"
     ]
    },
    {
     "name": "stderr",
     "output_type": "stream",
     "text": [
      "8it [00:00, 10.19it/s]"
     ]
    },
    {
     "name": "stdout",
     "output_type": "stream",
     "text": [
      "Get LightGBMXT\\T0, vali feature importances\n",
      "Get LightGBMXT\\T0, test feature importances\n",
      "Get LightGBM\\T0, train feature importances\n"
     ]
    },
    {
     "name": "stderr",
     "output_type": "stream",
     "text": [
      "11it [00:01,  9.54it/s]"
     ]
    },
    {
     "name": "stdout",
     "output_type": "stream",
     "text": [
      "Get LightGBM\\T0, vali feature importances\n",
      "Get LightGBM\\T0, test feature importances\n"
     ]
    },
    {
     "name": "stderr",
     "output_type": "stream",
     "text": [
      "13it [00:01,  7.48it/s]"
     ]
    },
    {
     "name": "stdout",
     "output_type": "stream",
     "text": [
      "Get RandomForestGini, train feature importances\n"
     ]
    },
    {
     "name": "stderr",
     "output_type": "stream",
     "text": [
      "14it [00:01,  6.44it/s]"
     ]
    },
    {
     "name": "stdout",
     "output_type": "stream",
     "text": [
      "Get RandomForestGini, vali feature importances\n"
     ]
    },
    {
     "name": "stderr",
     "output_type": "stream",
     "text": [
      "15it [00:01,  5.78it/s]"
     ]
    },
    {
     "name": "stdout",
     "output_type": "stream",
     "text": [
      "Get RandomForestGini, test feature importances\n"
     ]
    },
    {
     "name": "stderr",
     "output_type": "stream",
     "text": [
      "16it [00:02,  5.13it/s]"
     ]
    },
    {
     "name": "stdout",
     "output_type": "stream",
     "text": [
      "Get RandomForestEntr, train feature importances\n"
     ]
    },
    {
     "name": "stderr",
     "output_type": "stream",
     "text": [
      "17it [00:02,  4.90it/s]"
     ]
    },
    {
     "name": "stdout",
     "output_type": "stream",
     "text": [
      "Get RandomForestEntr, vali feature importances\n"
     ]
    },
    {
     "name": "stderr",
     "output_type": "stream",
     "text": [
      "18it [00:02,  4.71it/s]"
     ]
    },
    {
     "name": "stdout",
     "output_type": "stream",
     "text": [
      "Get RandomForestEntr, test feature importances\n",
      "Get CatBoost\\T0, train feature importances\n"
     ]
    },
    {
     "name": "stderr",
     "output_type": "stream",
     "text": [
      "20it [00:02,  6.48it/s]"
     ]
    },
    {
     "name": "stdout",
     "output_type": "stream",
     "text": [
      "Get CatBoost\\T0, vali feature importances\n",
      "Get CatBoost\\T0, test feature importances\n"
     ]
    },
    {
     "name": "stderr",
     "output_type": "stream",
     "text": [
      "22it [00:03,  6.21it/s]"
     ]
    },
    {
     "name": "stdout",
     "output_type": "stream",
     "text": [
      "Get ExtraTreesGini, train feature importances\n"
     ]
    },
    {
     "name": "stderr",
     "output_type": "stream",
     "text": [
      "23it [00:03,  5.56it/s]"
     ]
    },
    {
     "name": "stdout",
     "output_type": "stream",
     "text": [
      "Get ExtraTreesGini, vali feature importances\n"
     ]
    },
    {
     "name": "stderr",
     "output_type": "stream",
     "text": [
      "24it [00:03,  5.11it/s]"
     ]
    },
    {
     "name": "stdout",
     "output_type": "stream",
     "text": [
      "Get ExtraTreesGini, test feature importances\n"
     ]
    },
    {
     "name": "stderr",
     "output_type": "stream",
     "text": [
      "25it [00:03,  4.62it/s]"
     ]
    },
    {
     "name": "stdout",
     "output_type": "stream",
     "text": [
      "Get ExtraTreesEntr, train feature importances\n"
     ]
    },
    {
     "name": "stderr",
     "output_type": "stream",
     "text": [
      "26it [00:04,  4.42it/s]"
     ]
    },
    {
     "name": "stdout",
     "output_type": "stream",
     "text": [
      "Get ExtraTreesEntr, vali feature importances\n"
     ]
    },
    {
     "name": "stderr",
     "output_type": "stream",
     "text": [
      "27it [00:04,  4.29it/s]"
     ]
    },
    {
     "name": "stdout",
     "output_type": "stream",
     "text": [
      "Get ExtraTreesEntr, test feature importances\n",
      "Get NeuralNetFastAI, train feature importances\n"
     ]
    },
    {
     "name": "stderr",
     "output_type": "stream",
     "text": [
      "29it [00:04,  4.46it/s]"
     ]
    },
    {
     "name": "stdout",
     "output_type": "stream",
     "text": [
      "Get NeuralNetFastAI, vali feature importances\n",
      "Get NeuralNetFastAI, test feature importances\n"
     ]
    },
    {
     "name": "stderr",
     "output_type": "stream",
     "text": [
      "31it [00:05,  5.04it/s]"
     ]
    },
    {
     "name": "stdout",
     "output_type": "stream",
     "text": [
      "Get XGBoost\\T0, train feature importances\n",
      "Get XGBoost\\T0, vali feature importances\n"
     ]
    },
    {
     "name": "stderr",
     "output_type": "stream",
     "text": [
      "33it [00:05,  6.22it/s]"
     ]
    },
    {
     "name": "stdout",
     "output_type": "stream",
     "text": [
      "Get XGBoost\\T0, test feature importances\n",
      "Get LightGBMLarge, train feature importances\n",
      "Get LightGBMLarge, vali feature importances\n"
     ]
    },
    {
     "name": "stderr",
     "output_type": "stream",
     "text": [
      "35it [00:05,  7.58it/s]"
     ]
    },
    {
     "name": "stdout",
     "output_type": "stream",
     "text": [
      "Get LightGBMLarge, test feature importances\n",
      "Get WeightedEnsemble_L2, train feature importances\n"
     ]
    },
    {
     "name": "stderr",
     "output_type": "stream",
     "text": [
      "38it [00:06,  7.54it/s]"
     ]
    },
    {
     "name": "stdout",
     "output_type": "stream",
     "text": [
      "Get WeightedEnsemble_L2, vali feature importances\n"
     ]
    },
    {
     "name": "stderr",
     "output_type": "stream",
     "text": [
      "39it [00:06,  6.89it/s]"
     ]
    },
    {
     "name": "stdout",
     "output_type": "stream",
     "text": [
      "Get WeightedEnsemble_L2, test feature importances\n",
      "Get KNeighborsUnif_FULL, train feature importances\n"
     ]
    },
    {
     "name": "stderr",
     "output_type": "stream",
     "text": [
      "41it [00:06,  6.50it/s]"
     ]
    },
    {
     "name": "stdout",
     "output_type": "stream",
     "text": [
      "Get KNeighborsUnif_FULL, vali feature importances\n",
      "Get KNeighborsUnif_FULL, test feature importances\n"
     ]
    },
    {
     "name": "stderr",
     "output_type": "stream",
     "text": [
      "43it [00:06,  6.36it/s]"
     ]
    },
    {
     "name": "stdout",
     "output_type": "stream",
     "text": [
      "Get KNeighborsDist_FULL, train feature importances\n",
      "Get KNeighborsDist_FULL, vali feature importances\n"
     ]
    },
    {
     "name": "stderr",
     "output_type": "stream",
     "text": [
      "46it [00:07,  6.97it/s]"
     ]
    },
    {
     "name": "stdout",
     "output_type": "stream",
     "text": [
      "Get KNeighborsDist_FULL, test feature importances\n",
      "Get LightGBMXT\\T0_FULL, train feature importances\n"
     ]
    },
    {
     "name": "stderr",
     "output_type": "stream",
     "text": [
      "47it [00:07,  7.65it/s]"
     ]
    },
    {
     "name": "stdout",
     "output_type": "stream",
     "text": [
      "Get LightGBMXT\\T0_FULL, vali feature importances\n",
      "Get LightGBMXT\\T0_FULL, test feature importances\n",
      "Get LightGBM\\T0_FULL, train feature importances\n"
     ]
    },
    {
     "name": "stderr",
     "output_type": "stream",
     "text": [
      "50it [00:07,  8.79it/s]"
     ]
    },
    {
     "name": "stdout",
     "output_type": "stream",
     "text": [
      "Get LightGBM\\T0_FULL, vali feature importances\n",
      "Get LightGBM\\T0_FULL, test feature importances\n",
      "Get RandomForestGini_FULL, train feature importances\n"
     ]
    },
    {
     "name": "stderr",
     "output_type": "stream",
     "text": [
      "52it [00:08,  6.55it/s]"
     ]
    },
    {
     "name": "stdout",
     "output_type": "stream",
     "text": [
      "Get RandomForestGini_FULL, vali feature importances\n"
     ]
    },
    {
     "name": "stderr",
     "output_type": "stream",
     "text": [
      "53it [00:08,  4.86it/s]"
     ]
    },
    {
     "name": "stdout",
     "output_type": "stream",
     "text": [
      "Get RandomForestGini_FULL, test feature importances\n"
     ]
    },
    {
     "name": "stderr",
     "output_type": "stream",
     "text": [
      "54it [00:08,  4.18it/s]"
     ]
    },
    {
     "name": "stdout",
     "output_type": "stream",
     "text": [
      "Get RandomForestEntr_FULL, train feature importances\n"
     ]
    },
    {
     "name": "stderr",
     "output_type": "stream",
     "text": [
      "55it [00:09,  3.69it/s]"
     ]
    },
    {
     "name": "stdout",
     "output_type": "stream",
     "text": [
      "Get RandomForestEntr_FULL, vali feature importances\n"
     ]
    },
    {
     "name": "stderr",
     "output_type": "stream",
     "text": [
      "56it [00:09,  3.39it/s]"
     ]
    },
    {
     "name": "stdout",
     "output_type": "stream",
     "text": [
      "Get RandomForestEntr_FULL, test feature importances\n"
     ]
    },
    {
     "name": "stderr",
     "output_type": "stream",
     "text": [
      "58it [00:10,  3.89it/s]"
     ]
    },
    {
     "name": "stdout",
     "output_type": "stream",
     "text": [
      "Get CatBoost\\T0_FULL, train feature importances\n",
      "Get CatBoost\\T0_FULL, vali feature importances\n"
     ]
    },
    {
     "name": "stderr",
     "output_type": "stream",
     "text": [
      "60it [00:10,  4.99it/s]"
     ]
    },
    {
     "name": "stdout",
     "output_type": "stream",
     "text": [
      "Get CatBoost\\T0_FULL, test feature importances\n",
      "Get ExtraTreesGini_FULL, train feature importances\n"
     ]
    },
    {
     "name": "stderr",
     "output_type": "stream",
     "text": [
      "62it [00:11,  3.88it/s]"
     ]
    },
    {
     "name": "stdout",
     "output_type": "stream",
     "text": [
      "Get ExtraTreesGini_FULL, vali feature importances\n"
     ]
    },
    {
     "name": "stderr",
     "output_type": "stream",
     "text": [
      "63it [00:11,  3.92it/s]"
     ]
    },
    {
     "name": "stdout",
     "output_type": "stream",
     "text": [
      "Get ExtraTreesGini_FULL, test feature importances\n"
     ]
    },
    {
     "name": "stderr",
     "output_type": "stream",
     "text": [
      "64it [00:11,  3.80it/s]"
     ]
    },
    {
     "name": "stdout",
     "output_type": "stream",
     "text": [
      "Get ExtraTreesEntr_FULL, train feature importances\n"
     ]
    },
    {
     "name": "stderr",
     "output_type": "stream",
     "text": [
      "65it [00:11,  3.87it/s]"
     ]
    },
    {
     "name": "stdout",
     "output_type": "stream",
     "text": [
      "Get ExtraTreesEntr_FULL, vali feature importances\n",
      "Get ExtraTreesEntr_FULL, test feature importances\n"
     ]
    },
    {
     "name": "stderr",
     "output_type": "stream",
     "text": [
      "67it [00:12,  3.85it/s]"
     ]
    },
    {
     "name": "stdout",
     "output_type": "stream",
     "text": [
      "Get NeuralNetFastAI_FULL, train feature importances\n"
     ]
    },
    {
     "name": "stderr",
     "output_type": "stream",
     "text": [
      "68it [00:12,  4.24it/s]"
     ]
    },
    {
     "name": "stdout",
     "output_type": "stream",
     "text": [
      "Get NeuralNetFastAI_FULL, vali feature importances\n",
      "Get NeuralNetFastAI_FULL, test feature importances\n"
     ]
    },
    {
     "name": "stderr",
     "output_type": "stream",
     "text": [
      "71it [00:12,  6.10it/s]"
     ]
    },
    {
     "name": "stdout",
     "output_type": "stream",
     "text": [
      "Get XGBoost\\T0_FULL, train feature importances\n",
      "Get XGBoost\\T0_FULL, vali feature importances\n"
     ]
    },
    {
     "name": "stderr",
     "output_type": "stream",
     "text": [
      "73it [00:13,  7.48it/s]"
     ]
    },
    {
     "name": "stdout",
     "output_type": "stream",
     "text": [
      "Get XGBoost\\T0_FULL, test feature importances\n",
      "Get LightGBMLarge_FULL, train feature importances\n"
     ]
    },
    {
     "name": "stderr",
     "output_type": "stream",
     "text": [
      "75it [00:13,  8.41it/s]"
     ]
    },
    {
     "name": "stdout",
     "output_type": "stream",
     "text": [
      "Get LightGBMLarge_FULL, vali feature importances\n",
      "Get LightGBMLarge_FULL, test feature importances\n"
     ]
    },
    {
     "name": "stderr",
     "output_type": "stream",
     "text": [
      "76it [00:13,  7.46it/s]"
     ]
    },
    {
     "name": "stdout",
     "output_type": "stream",
     "text": [
      "Get WeightedEnsemble_L2_FULL, train feature importances\n",
      "Get WeightedEnsemble_L2_FULL, vali feature importances\n"
     ]
    },
    {
     "name": "stderr",
     "output_type": "stream",
     "text": [
      "78it [00:13,  5.65it/s]"
     ]
    },
    {
     "name": "stdout",
     "output_type": "stream",
     "text": [
      "Get WeightedEnsemble_L2_FULL, test feature importances\n"
     ]
    },
    {
     "name": "stderr",
     "output_type": "stream",
     "text": [
      "\n"
     ]
    }
   ],
   "source": [
    "totalResult = ML_two_class_for_autogluon_DC.model_fit(trainData = pd.concat([xtrain, ytrain], axis = 1), \n",
    "                                                    valiData = pd.concat([xvali, yvali], axis = 1), \n",
    "                                                    testData = pd.concat([xtest, ytest], axis = 1), \n",
    "                                                    input_features = list(xtrain.columns), \n",
    "                                                    target_label = \"Hypotension\", \n",
    "                                                    hyperparameter_tuning = \"bayesopt\", \n",
    "                                                    feature_importances = \"PermutationImportance\")"
   ]
  },
  {
   "cell_type": "code",
   "execution_count": 15,
   "metadata": {},
   "outputs": [],
   "source": [
    "pd.DataFrame(totalResult[0]).to_excel(\"..//result//ML-result-20220922.xlsx\", index = None)"
   ]
  },
  {
   "cell_type": "code",
   "execution_count": 16,
   "metadata": {},
   "outputs": [],
   "source": [
    "pd.DataFrame(totalResult[1]).to_excel(\"..//result//ML-FeatureImportance-20220922.xlsx\", index = None)"
   ]
  },
  {
   "cell_type": "code",
   "execution_count": null,
   "metadata": {},
   "outputs": [],
   "source": []
  }
 ],
 "metadata": {
  "kernelspec": {
   "display_name": "Python 3.9.10 64-bit",
   "language": "python",
   "name": "python3"
  },
  "language_info": {
   "codemirror_mode": {
    "name": "ipython",
    "version": 3
   },
   "file_extension": ".py",
   "mimetype": "text/x-python",
   "name": "python",
   "nbconvert_exporter": "python",
   "pygments_lexer": "ipython3",
   "version": "3.9.10"
  },
  "orig_nbformat": 4,
  "vscode": {
   "interpreter": {
    "hash": "ce28dc8be9f1e06c75111efb6380613cac2523a7b9fdabb60304bf08ed283329"
   }
  }
 },
 "nbformat": 4,
 "nbformat_minor": 2
}
